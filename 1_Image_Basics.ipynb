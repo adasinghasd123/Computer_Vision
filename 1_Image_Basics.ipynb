{
 "cells": [
  {
   "cell_type": "code",
   "execution_count": 3,
   "metadata": {},
   "outputs": [],
   "source": [
    "import numpy as np\n",
    "import cv2"
   ]
  },
  {
   "attachments": {},
   "cell_type": "markdown",
   "metadata": {},
   "source": [
    "There are two tyoes of images:-\n",
    "1. Grey Scale Image(Pixel value:0,1)\n",
    "2. Black & White Images(Pixel value:0,255)\n",
    "3. Color Image(Three channel:- RGB)(Pixel value:0,255)"
   ]
  },
  {
   "attachments": {},
   "cell_type": "markdown",
   "metadata": {},
   "source": [
    "Image Resolution:-\n",
    "\n",
    "Total number of pixel in the image.\n",
    "\n",
    "Eg:- Full-HD= 1920*1080\n"
   ]
  },
  {
   "cell_type": "code",
   "execution_count": 4,
   "metadata": {},
   "outputs": [
    {
     "name": "stdout",
     "output_type": "stream",
     "text": [
      "<class 'numpy.ndarray'>\n",
      "(125, 201, 3)\n",
      "[[[26  3 35]\n",
      "  [30  8 37]\n",
      "  [35 13 41]\n",
      "  ...\n",
      "  [33  9 19]\n",
      "  [36 14 19]\n",
      "  [33 12 15]]\n",
      "\n",
      " [[23  1 29]\n",
      "  [25  4 29]\n",
      "  [30 11 32]\n",
      "  ...\n",
      "  [33  9 19]\n",
      "  [36 14 19]\n",
      "  [34 13 16]]\n",
      "\n",
      " [[21  3 20]\n",
      "  [23  6 20]\n",
      "  [25  8 21]\n",
      "  ...\n",
      "  [33 10 18]\n",
      "  [36 14 19]\n",
      "  [37 16 19]]\n",
      "\n",
      " ...\n",
      "\n",
      " [[ 4  4  4]\n",
      "  [ 4  4  4]\n",
      "  [ 4  4  4]\n",
      "  ...\n",
      "  [ 0  5  4]\n",
      "  [ 0  5  4]\n",
      "  [ 0  5  4]]\n",
      "\n",
      " [[ 4  4  4]\n",
      "  [ 4  4  4]\n",
      "  [ 4  4  4]\n",
      "  ...\n",
      "  [ 0  5  4]\n",
      "  [ 0  5  4]\n",
      "  [ 0  5  4]]\n",
      "\n",
      " [[ 6  4  4]\n",
      "  [ 6  4  4]\n",
      "  [ 6  4  4]\n",
      "  ...\n",
      "  [ 2  4  4]\n",
      "  [ 2  4  4]\n",
      "  [ 2  4  4]]]\n"
     ]
    },
    {
     "data": {
      "text/plain": [
       "-1"
      ]
     },
     "execution_count": 4,
     "metadata": {},
     "output_type": "execute_result"
    }
   ],
   "source": [
    "#Reading an image\n",
    "\n",
    "img=cv2.imread('download.jpg')\n",
    "print(type(img))\n",
    "print(img.shape)\n",
    "print(img)\n",
    "cv2.imshow('window',img)\n",
    "cv2.waitKey(0)"
   ]
  },
  {
   "cell_type": "code",
   "execution_count": 5,
   "metadata": {},
   "outputs": [
    {
     "name": "stdout",
     "output_type": "stream",
     "text": [
      "(125, 201)\n"
     ]
    },
    {
     "data": {
      "text/plain": [
       "-1"
      ]
     },
     "execution_count": 5,
     "metadata": {},
     "output_type": "execute_result"
    }
   ],
   "source": [
    "#Converting Grey-Scale to Black-white\n",
    "\n",
    "\n",
    "img_grey=cv2.cvtColor(img,cv2.COLOR_BGR2GRAY)\n",
    "\n",
    "cv2.imshow('window',img_grey)\n",
    "print(img_grey.shape)\n",
    "cv2.waitKey(0)\n"
   ]
  },
  {
   "cell_type": "code",
   "execution_count": 7,
   "metadata": {},
   "outputs": [
    {
     "data": {
      "text/plain": [
       "-1"
      ]
     },
     "execution_count": 7,
     "metadata": {},
     "output_type": "execute_result"
    }
   ],
   "source": [
    "#Playing with RGB channel\n",
    "\n",
    "imgBlue=img[:,:,0]\n",
    "imgGreen=img[:,:,1]\n",
    "imgRed=img[:,:,2]\n",
    "\n",
    "new_img=np.hstack((imgBlue,imgGreen,imgRed))\n",
    "\n",
    "cv2.imshow('window',new_img)\n",
    "cv2.waitKey(0)\n"
   ]
  },
  {
   "cell_type": "code",
   "execution_count": 6,
   "metadata": {},
   "outputs": [
    {
     "name": "stdout",
     "output_type": "stream",
     "text": [
      "<class 'numpy.ndarray'>\n",
      "(125, 201, 3)\n",
      "(800, 800, 3)\n"
     ]
    },
    {
     "data": {
      "text/plain": [
       "-1"
      ]
     },
     "execution_count": 6,
     "metadata": {},
     "output_type": "execute_result"
    }
   ],
   "source": [
    "#Image Resizing\n",
    "\n",
    "img1=cv2.imread('download.jpg')\n",
    "print(type(img))\n",
    "print(img.shape)\n",
    "\n",
    "img_resize=cv2.resize(img1,(800,800))\n",
    "print(img_resize.shape)\n",
    "\n",
    "#half-size resize\n",
    "cv2.imshow('window',img1)\n",
    "cv2.waitKey(0)"
   ]
  },
  {
   "cell_type": "code",
   "execution_count": 8,
   "metadata": {},
   "outputs": [
    {
     "data": {
      "text/plain": [
       "-1"
      ]
     },
     "execution_count": 8,
     "metadata": {},
     "output_type": "execute_result"
    }
   ],
   "source": [
    "#Flipping an image\n",
    "\n",
    "#img_flip=cv2.flip(img,0)\n",
    "img_flip=cv2.flip(img,-1)\n",
    "cv2.imshow('window',img_flip)\n",
    "cv2.waitKey(0)"
   ]
  },
  {
   "cell_type": "code",
   "execution_count": 11,
   "metadata": {},
   "outputs": [
    {
     "data": {
      "text/plain": [
       "-1"
      ]
     },
     "execution_count": 11,
     "metadata": {},
     "output_type": "execute_result"
    }
   ],
   "source": [
    "#Cropping an image\n",
    "# we can do it by slicing \n",
    "\n",
    "img_crop=img[0:80,0:80]\n",
    "cv2.imshow('window',img_crop)\n",
    "cv2.waitKey(0)"
   ]
  },
  {
   "cell_type": "code",
   "execution_count": 12,
   "metadata": {},
   "outputs": [
    {
     "data": {
      "text/plain": [
       "True"
      ]
     },
     "execution_count": 12,
     "metadata": {},
     "output_type": "execute_result"
    }
   ],
   "source": [
    "#Saving an image\n",
    "\n",
    "img_crop=img[0:80,0:80]\n",
    "\n",
    "cv2.imwrite('fruits.png',img_crop)\n"
   ]
  }
 ],
 "metadata": {
  "kernelspec": {
   "display_name": "base",
   "language": "python",
   "name": "python3"
  },
  "language_info": {
   "codemirror_mode": {
    "name": "ipython",
    "version": 3
   },
   "file_extension": ".py",
   "mimetype": "text/x-python",
   "name": "python",
   "nbconvert_exporter": "python",
   "pygments_lexer": "ipython3",
   "version": "3.9.12"
  },
  "orig_nbformat": 4
 },
 "nbformat": 4,
 "nbformat_minor": 2
}
