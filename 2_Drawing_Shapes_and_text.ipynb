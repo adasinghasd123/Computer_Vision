{
 "cells": [
  {
   "attachments": {},
   "cell_type": "markdown",
   "metadata": {},
   "source": [
    "                Drawing Shapes and Text on Images"
   ]
  },
  {
   "cell_type": "code",
   "execution_count": 2,
   "metadata": {},
   "outputs": [],
   "source": [
    "import numpy as np\n",
    "import cv2"
   ]
  },
  {
   "cell_type": "code",
   "execution_count": 15,
   "metadata": {},
   "outputs": [
    {
     "data": {
      "text/plain": [
       "-1"
      ]
     },
     "execution_count": 15,
     "metadata": {},
     "output_type": "execute_result"
    }
   ],
   "source": [
    "#Creating an image\n",
    "\n",
    "img=np.zeros((512,512,3))\n",
    "\n",
    "\n",
    "#Rectangle\n",
    "cv2.rectangle(img,pt1=(100,100),pt2=(300,300),color=(255,0,0),thickness=3)#For completely filled rectangle we have to pass thickness = -1\n",
    "\n",
    "#circle\n",
    "cv2.circle(img,center=(100,400),radius=50,color=(0,0,255),thickness=3) #For completely filled circle we have to pass thickness = -1\n",
    "\n",
    "\n",
    "#Line \n",
    "cv2.line(img,pt1=(0,0),pt2=(512,512),thickness=2,color=(0,255,0))\n",
    "\n",
    "#Text\n",
    "cv2.putText(img,org=(100,100),fontScale=4,color=(0,255,255),thickness=2,lineType=cv2.LINE_AA,text='HELLO',fontFace=cv2.FONT_HERSHEY_COMPLEX)\n",
    "\n",
    "\n",
    "cv2.imshow('window',img)\n",
    "cv2.waitKey(0)"
   ]
  }
 ],
 "metadata": {
  "kernelspec": {
   "display_name": "base",
   "language": "python",
   "name": "python3"
  },
  "language_info": {
   "codemirror_mode": {
    "name": "ipython",
    "version": 3
   },
   "file_extension": ".py",
   "mimetype": "text/x-python",
   "name": "python",
   "nbconvert_exporter": "python",
   "pygments_lexer": "ipython3",
   "version": "3.9.12"
  },
  "orig_nbformat": 4
 },
 "nbformat": 4,
 "nbformat_minor": 2
}
