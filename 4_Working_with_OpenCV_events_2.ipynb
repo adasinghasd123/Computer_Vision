{
 "cells": [
  {
   "attachments": {},
   "cell_type": "markdown",
   "metadata": {},
   "source": []
  },
  {
   "cell_type": "code",
   "execution_count": 2,
   "metadata": {},
   "outputs": [],
   "source": [
    "import cv2\n",
    "import numpy as np"
   ]
  },
  {
   "cell_type": "code",
   "execution_count": 8,
   "metadata": {},
   "outputs": [],
   "source": [
    "img=np.zeros((512,512,3))"
   ]
  },
  {
   "cell_type": "code",
   "execution_count": 9,
   "metadata": {},
   "outputs": [],
   "source": [
    "flag=False\n",
    "ix=-1\n",
    "iy=-1\n",
    "\n",
    "def draw(event,x,y,flags,params):\n",
    "    global flag,ix,iy\n",
    "    if event==1:\n",
    "       flag=True   \n",
    "       ix=x\n",
    "       iy=y  \n",
    "    elif event==0:\n",
    "        if flag==True:\n",
    "            cv2.rectangle(img,pt1=(ix,iy),pt2=(x,y),color=(0,255,255),thickness=-1)\n",
    "    elif event==4:\n",
    "        flag=False\n",
    "        cv2.rectangle(img,pt1=(ix,iy),pt2=(x,y),color=(0,255,255),thickness=-1)\n",
    "    \n",
    "\n",
    "cv2.namedWindow(winname='window')\n",
    "cv2.setMouseCallback('window',draw)\n",
    "\n",
    "\n",
    "while True:\n",
    "    cv2.imshow('window',img)\n",
    "\n",
    "    if cv2.waitKey(1) & 0xFF==ord('x'):\n",
    "        break\n",
    "\n",
    "cv2.destroyAllWindows()"
   ]
  },
  {
   "cell_type": "code",
   "execution_count": null,
   "metadata": {},
   "outputs": [],
   "source": []
  }
 ],
 "metadata": {
  "kernelspec": {
   "display_name": "base",
   "language": "python",
   "name": "python3"
  },
  "language_info": {
   "codemirror_mode": {
    "name": "ipython",
    "version": 3
   },
   "file_extension": ".py",
   "mimetype": "text/x-python",
   "name": "python",
   "nbconvert_exporter": "python",
   "pygments_lexer": "ipython3",
   "version": "3.9.12"
  },
  "orig_nbformat": 4
 },
 "nbformat": 4,
 "nbformat_minor": 2
}
